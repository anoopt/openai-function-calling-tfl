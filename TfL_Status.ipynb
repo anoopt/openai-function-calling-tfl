{
 "cells": [
  {
   "cell_type": "markdown",
   "metadata": {},
   "source": [
    "# TfL Assistant using OpenAI API Function calling and TfL API\n",
    "This notebook demonstrates how to use OpenAI API function calling to call TfL API and get the status of a London Underground line.\n",
    "\n",
    "## Prerequisites\n",
    "1. [OpenAI API key](https://beta.openai.com/)\n",
    "2. [TfL API key](https://api-portal.tfl.gov.uk/login)\n",
    "3. [PowerShell](https://docs.microsoft.com/en-us/powershell/scripting/install/installing-powershell?view=powershell-7.1)\n",
    "\n",
    "## Sample flow\n",
    "1. Get query from user\n",
    "2. Call OpenAI API with the query and also tell OpenAI that we have a function in our code to call TfL API\n",
    "3. OpenAI will see the user query and if relevant, will tell us to call the TfL API function in our code\n",
    "4. Call TfL API function in our code\n",
    "5. Return the TfL API response and user's initial message to OpenAI\n",
    "6. OpenAI will analyse the TfL API response along with user's initial message and return a response"
   ]
  },
  {
   "cell_type": "markdown",
   "metadata": {},
   "source": [
    "## Global variables for OpenAI API\n",
    "\n",
    "Replace the following variables with your own values:"
   ]
  },
  {
   "cell_type": "code",
   "execution_count": null,
   "metadata": {},
   "outputs": [],
   "source": [
    "$openai_api_key = \"sk-xxxxxxxxxxxxxxxxxxxxxxxxxxxxxxxxxxxxxxxxx\";\n",
    "$openai_api_endpoint = \"https://api.openai.com/v1/chat/completions\";\n",
    "$openai_api_model = \"gpt-3.5-turbo-0613\";"
   ]
  },
  {
   "cell_type": "markdown",
   "metadata": {},
   "source": [
    "## Functions\n",
    "Lets look at the functions that we will be using in this notebook.\n",
    "\n",
    "### Get-TubeStatus\n",
    "This function calls TfL API and gets the status of a London Underground line."
   ]
  },
  {
   "cell_type": "code",
   "execution_count": null,
   "metadata": {},
   "outputs": [],
   "source": [
    "function Get-TubeStatus {\n",
    "    param(\n",
    "        [Parameter(Mandatory = $true)]\n",
    "        [string]$line\n",
    "    )\n",
    "\n",
    "    $tfl_api_endpoint = \"https://api.tfl.gov.uk/Line/$line/Status\";\n",
    "    $response = Invoke-WebRequest -Uri $tfl_api_endpoint -Method Get\n",
    "    return $response;\n",
    "\n",
    "}"
   ]
  },
  {
   "cell_type": "markdown",
   "metadata": {},
   "source": [
    "### Invoke-OpenAI\n",
    "This function calls OpenAI API and gets the response from the API."
   ]
  },
  {
   "cell_type": "code",
   "execution_count": null,
   "metadata": {},
   "outputs": [],
   "source": [
    "function Invoke-OpenAI {\n",
    "    param(\n",
    "        [Parameter(Mandatory = $true)]\n",
    "        $messages\n",
    "    )\n",
    "    \n",
    "    $data = @{\n",
    "        \"model\"       = $openai_api_model;\n",
    "        \"messages\"    = $messages;\n",
    "        \"functions\"   = $functions;\n",
    "        \"max_tokens\"  = 64;\n",
    "    }\n",
    "    \n",
    "    $headers = @{\n",
    "        \"Content-Type\"  = \"application/json\"\n",
    "        \"Authorization\" = \"Bearer \" + $openai_api_key\n",
    "    }\n",
    "    $response = Invoke-WebRequest -Uri $openai_api_endpoint -Method Post -Headers $headers -Body ($data | ConvertTo-Json -Depth 10)\n",
    "\n",
    "    return $response;\n",
    "\n",
    "}"
   ]
  },
  {
   "cell_type": "markdown",
   "metadata": {},
   "source": [
    "### Get-Result\n",
    "This function parses the response from OpenAI API and returns the result.\n",
    "\n",
    "As we will see later, `Invoke-OpenAI` will be called first with the user's message along with information that we have a function called `Get-TubeStatus` in our code.\n",
    "If the response from OpenAI specifies to call a function (in this case `Get-TubeStatus`), then `Get-TubeStatus` will be called.\n",
    "The response from `Get-TubeStatus` will be passed to OpenAI again.\n",
    "OpenAI will process that request, along with user's message, and return the response.\n",
    "\n",
    "#### Example\n",
    "User's message: \"What is the status of the Central line?\"\n",
    "OpenAI's first response: \"call the Get-TubeStatus Central\"\n",
    "`Get-TubeStatus` will be called with parameter \"Central\" to get the status of the Central line.\n",
    "That response will be passed to OpenAI again.\n",
    "OpenAI will process that response, along with user's message, and return the response.\n",
    "OpenAI's final response: \"The Central line is running with minor delays.\"\n"
   ]
  },
  {
   "cell_type": "code",
   "execution_count": null,
   "metadata": {},
   "outputs": [],
   "source": [
    "function Get-Result {\n",
    "    param(\n",
    "        [Parameter(Mandatory = $true)]\n",
    "        [object]$response,\n",
    "        [Parameter(Mandatory = $true)]\n",
    "        $messages\n",
    "    )\n",
    "\n",
    "    $response_json_first_choice = ($response.Content | ConvertFrom-Json | Select-Object -ExpandProperty \"choices\")[0];\n",
    "\n",
    "    $response_finish_reason = $response_json_first_choice.finish_reason;\n",
    "\n",
    "    # if response_finish_reason is \"function_call\" then call the function which is in $response_json_first_choice.message.function_call.name\n",
    "    # and pass the arguments which is in $response_json_first_choice.message.function_call.arguments\n",
    "\n",
    "    if ($response_finish_reason -eq \"function_call\") {\n",
    "        $function_name = $response_json_first_choice.message.function_call.name\n",
    "        $function_arguments = $response_json_first_choice.message.function_call.arguments | ConvertFrom-Json\n",
    "\n",
    "        # Based on the function name, call the function and pass the arguments\n",
    "\n",
    "        switch ($function_name) {\n",
    "            \"getTubeStatus\" {\n",
    "                $line = $function_arguments | Select-Object -ExpandProperty \"line\";\n",
    "                $tube_status = Get-TubeStatus -line $line;\n",
    "                \n",
    "                # Compose a message of type \"assistant\" with function name and arguments\n",
    "                $assistant_message = @{\n",
    "                    \"role\"          = \"assistant\";\n",
    "                    \"content\"       = \"\";\n",
    "                    \"function_call\" = @{\n",
    "                        \"name\"      = $function_name;\n",
    "                        \"arguments\" = $function_arguments | ConvertTo-Json;\n",
    "                    }\n",
    "                }\n",
    "\n",
    "                # Push the assistant message to messages array\n",
    "                $messages += $assistant_message;\n",
    "\n",
    "                # Compose a message of type \"function\" with the response from TfL API\n",
    "                $function_message = @{\n",
    "                    \"role\"    = \"function\";\n",
    "                    \"name\"    = $function_name;\n",
    "                    \"content\" = $tube_status.Content | ConvertFrom-Json | ForEach-Object { $_.name + \": \" + ($_.lineStatuses[0] | ConvertTo-Json) } | Out-String;\n",
    "                }\n",
    "\n",
    "                # Push the function message to messages array\n",
    "                $messages += $function_message;\n",
    "            }\n",
    "        }\n",
    "\n",
    "        # Call Invoke-OpenAI function again with updated messages array\n",
    "        $second_response = Invoke-OpenAI -messages $messages;\n",
    "        return Get-Result -response $second_response -messages $messages;\n",
    "\n",
    "    }\n",
    "\n",
    "    # if response_finish_reason is \"stop\" then get the response from response[\"choices\"][0][\"message\"][\"content\"]\n",
    "    # and return the response\n",
    "\n",
    "    if ($response_finish_reason -eq \"stop\") {\n",
    "        $result = $response.Content | ConvertFrom-Json | Select-Object -ExpandProperty choices | Select-Object -ExpandProperty message | Select-Object -ExpandProperty content;\n",
    "        return $result;\n",
    "    }\n",
    "}"
   ]
  },
  {
   "cell_type": "markdown",
   "metadata": {},
   "source": [
    "### Start-Chat\n",
    "This function starts the chat with the user and calls `Invoke-OpenAI` and `Get-Result` functions.\n",
    "\n",
    "1. Get user's message\n",
    "2. Call `Invoke-OpenAI` function with user's message and information that we have a function called `Get-TubeStatus` in our code\n",
    "3. Call `Get-Result` function with the response from `Invoke-OpenAI` function\n",
    "4. If the response from `Get-Result` function is not empty, then print the response"
   ]
  },
  {
   "cell_type": "code",
   "execution_count": null,
   "metadata": {},
   "outputs": [],
   "source": [
    "function Start-Chat {\n",
    "\n",
    "    param(\n",
    "        [Parameter(Mandatory = $true)]\n",
    "        [object]$user_input\n",
    "    )\n",
    "\n",
    "    $messages = @()\n",
    "    \n",
    "    # Add a system message to messages array\n",
    "    $system_message = @{}\n",
    "    $system_message[\"role\"] = \"system\";\n",
    "    $system_message[\"content\"] = \"You are a TfL Assistant. You need to help customers with their queries about London Underground.\";\n",
    "\n",
    "    Write-Host \"Your question to the TfL Assistant: $user_input\" -ForegroundColor Yellow\n",
    "    \n",
    "\n",
    "    # Compose a message of type \"user\" with user message\n",
    "    $user_message = @{}\n",
    "    $user_message[\"role\"] = \"user\";\n",
    "    $user_message[\"content\"] = $user_input;\n",
    "\n",
    "    # Push the user message to messages array\n",
    "    $messages += $user_message;\n",
    "\n",
    "    # Call Invoke-OpenAI function with messages array\n",
    "    $response = Invoke-OpenAI -messages $messages;\n",
    "\n",
    "    # Call Get-Result function with response and messages array\n",
    "    $final_response = Get-Result -response $response -messages $messages;\n",
    "\n",
    "    Write-Host $final_response -ForegroundColor Green\n",
    "}"
   ]
  },
  {
   "cell_type": "markdown",
   "metadata": {},
   "source": [
    "## A global variable to store functions array\n",
    "We will be using a global variable to store the functions array.\n",
    "\n",
    "We have only one function in the array, `getTubeStatus`.\n",
    "The definition of the funtions array needs to be of a particular format.\n",
    "Each function in the array needs to have a `name`, `description` and `parameters` properties.\n",
    "\n",
    "The idea being, when this array is passed to OpenAI along with user's message, OpenAI can then read the details in this array and respond to us saying which function we need to call and what arguments we need to pass to that function.\n",
    "\n",
    "### Example\n",
    "User's message: \"What is the status of the Central line?\"\n",
    "OpenAI's response will be something like below\n",
    "```json\n",
    "...\n",
    "\"choices\": [\n",
    "        {\n",
    "            \"index\": 0,\n",
    "            \"message\": {\n",
    "                \"role\": \"assistant\",\n",
    "                \"content\": null,\n",
    "                \"function_call\": {\n",
    "                    \"name\": \"getTubeStatus\",\n",
    "                    \"arguments\": \"{\\n  \\\"line\\\": \\\"central\\\"\\n}\"\n",
    "                }\n",
    "            },\n",
    "            \"finish_reason\": \"function_call\"\n",
    "        }\n",
    "    ]\n",
    "...\n",
    "```"
   ]
  },
  {
   "cell_type": "code",
   "execution_count": null,
   "metadata": {},
   "outputs": [],
   "source": [
    "$functions = @()\n",
    "\n",
    "# Add a function to functions array\n",
    "$getTubeStatusFunction = @{\n",
    "    \"name\"        = \"getTubeStatus\";\n",
    "    \"description\" = \"Get the status of a London Underground line\";\n",
    "    \"parameters\"  = @{\n",
    "        \"type\"       = \"object\";\n",
    "        \"properties\" = @{\n",
    "            \"line\" = @{\n",
    "                \"type\"        = \"string\";\n",
    "                \"description\" = \"The name of the London Underground line\";\n",
    "                \"enum\"        = @(\"bakerloo\", \"central\", \"circle\", \"district\", \"dlr\", \"elizabeth\", \"hammersmith-city\", \"jubilee\", \"london-overground\", \"metropolitan\", \"northern\", \"piccadilly\", \"tram\", \"victoria\", \"waterloo-city\");\n",
    "            }\n",
    "        }\n",
    "        \"required\"   = @(\"line\");\n",
    "    }\n",
    "}\n",
    "\n",
    "$functions += $getTubeStatusFunction;"
   ]
  },
  {
   "cell_type": "markdown",
   "metadata": {},
   "source": [
    "## OpenAI and TfL API using Function calling\n",
    "Call `Start-Chat` function to start the chat with the user."
   ]
  },
  {
   "cell_type": "code",
   "execution_count": null,
   "metadata": {},
   "outputs": [],
   "source": [
    "$question = \"Are there any problems on the piccadilly line?\"\n",
    "Start-Chat -user_input $question"
   ]
  }
 ],
 "metadata": {
  "kernelspec": {
   "display_name": "PowerShell",
   "language": "powershell",
   "name": "powershell"
  },
  "language_info": {
   "codemirror_mode": "shell",
   "file_extension": ".ps1",
   "mimetype": "text/x-sh",
   "name": "powershell"
  },
  "orig_nbformat": 4
 },
 "nbformat": 4,
 "nbformat_minor": 2
}
